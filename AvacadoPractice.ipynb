{
 "cells": [
  {
   "cell_type": "markdown",
   "metadata": {},
   "source": [
    "First things first, you need to find which language we're going to be using. In this case, we will be making a graph, so you should import Pandas. Since our graph will be loaded off of preset data found online, you'll also need to import the document type. In this case, and in most, its a CSV file. (CSV stands for Comma Separated Values.)"
   ]
  },
  {
   "cell_type": "code",
   "execution_count": null,
   "metadata": {
    "collapsed": true
   },
   "outputs": [],
   "source": []
  },
  {
   "cell_type": "markdown",
   "metadata": {},
   "source": [
    "In order for pandas to read the file, use pd.read_cvs(\"avocado.csv\"), and give it a variable!"
   ]
  },
  {
   "cell_type": "code",
   "execution_count": null,
   "metadata": {
    "collapsed": true
   },
   "outputs": [],
   "source": []
  },
  {
   "cell_type": "markdown",
   "metadata": {},
   "source": [
    "Lets think of a question we want to answer using a graph. Lets use \"What year had the highest average avocado prices?\""
   ]
  },
  {
   "cell_type": "markdown",
   "metadata": {},
   "source": [
    "Now, use df.head(#) to show the first # rows in the dataframe (DF). If you want to find the dataframe of a certain collumn assign a variable to the collumn. \n",
    "Ex: Lets find the dataframe for the Total Volume of avocados. \n",
    "    TV = df[\"Total Volume\"]\n",
    "    The capitals and spaces both matter, so be sure to type what the code has.\n",
    "    \n",
    "Now find the dataframes for both the year and the AveragePrice."
   ]
  },
  {
   "cell_type": "code",
   "execution_count": null,
   "metadata": {
    "collapsed": true
   },
   "outputs": [],
   "source": []
  },
  {
   "cell_type": "markdown",
   "metadata": {},
   "source": [
    "To merge two or more dataframes into one, use double brackets and a comma between the collumn names. Create a new df (say, df2) and create one dataframe that shows both the year and the AveragePrice."
   ]
  },
  {
   "cell_type": "code",
   "execution_count": 1,
   "metadata": {
    "collapsed": true
   },
   "outputs": [],
   "source": []
  },
  {
   "cell_type": "markdown",
   "metadata": {},
   "source": [
    "Here's where we get more complicated. Groupby is function used to sort a dataframe based on similarites. So for example, in a moment, you will run the code \"df3 = df.groupby([\"year\"])[[\"AveragePrice\"]].mean\" (*Creating new variables helps to keep the original dataframe clean from alterations.*) Here, we are grouping the mean of the AveragePrice by the mean of the year into one chart. \n",
    "\n",
    "Run this code now, and use a print statement to make it visible."
   ]
  },
  {
   "cell_type": "code",
   "execution_count": null,
   "metadata": {
    "collapsed": true
   },
   "outputs": [],
   "source": []
  },
  {
   "cell_type": "markdown",
   "metadata": {},
   "source": [
    "Now that we've grouped our dataframes into a chart with an X-value and a Y-value, lets create our chart! \n",
    "\n",
    "Lets add MatPlotLib to our code without using import. Use \"%matplotlib inline\" to add it.\n",
    "\n",
    "Decide which type of graph you'd like to create. A scatter plot is good for correlation. Bar graphs and histograms are good for statistics. A pie chart is good for percentages. A line graph is good for change over time.\n",
    "\n",
    "Once you've decided use \"df3.plot.___()\" Instead of the underscores, type in your graph type (.line, .bar, .histogram, ect.)"
   ]
  },
  {
   "cell_type": "code",
   "execution_count": null,
   "metadata": {
    "collapsed": true
   },
   "outputs": [],
   "source": []
  },
  {
   "cell_type": "markdown",
   "metadata": {},
   "source": [
    "So, were you able to answer the question? If so, either return to our page, or click the Insert tab here on Jupyter and then Cell Below. Continue playing with commands and creating more detailed graphs and charts of your own."
   ]
  },
  {
   "cell_type": "code",
   "execution_count": null,
   "metadata": {
    "collapsed": true
   },
   "outputs": [],
   "source": []
  },
  {
   "cell_type": "code",
   "execution_count": 3,
   "metadata": {
    "collapsed": true
   },
   "outputs": [],
   "source": []
  }
 ],
 "metadata": {
  "kernelspec": {
   "display_name": "Python 3",
   "language": "python",
   "name": "python3"
  },
  "language_info": {
   "codemirror_mode": {
    "name": "ipython",
    "version": 3
   },
   "file_extension": ".py",
   "mimetype": "text/x-python",
   "name": "python",
   "nbconvert_exporter": "python",
   "pygments_lexer": "ipython3",
   "version": "3.7.0"
  }
 },
 "nbformat": 4,
 "nbformat_minor": 2
}
