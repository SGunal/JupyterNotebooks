{
 "cells": [
  {
   "cell_type": "markdown",
   "metadata": {},
   "source": [
    "Import pandas and matplotlib"
   ]
  },
  {
   "cell_type": "code",
   "execution_count": null,
   "metadata": {},
   "outputs": [],
   "source": [
    "\n"
   ]
  },
  {
   "cell_type": "markdown",
   "metadata": {},
   "source": [
    "Import your csv file (hint: use pd.read_csv, and df.head() to see the dataframe)"
   ]
  },
  {
   "cell_type": "code",
   "execution_count": null,
   "metadata": {},
   "outputs": [],
   "source": [
    "\n"
   ]
  },
  {
   "cell_type": "markdown",
   "metadata": {},
   "source": [
    "Do we need to clean our data? Use commands like df.info() and df.isnull().sum() to check"
   ]
  },
  {
   "cell_type": "code",
   "execution_count": null,
   "metadata": {},
   "outputs": [],
   "source": [
    "\n",
    "\n"
   ]
  },
  {
   "cell_type": "raw",
   "metadata": {},
   "source": [
    "Since the data set doesn't have any null values it is already clean and you don't need to do anything"
   ]
  },
  {
   "cell_type": "markdown",
   "metadata": {},
   "source": [
    "Look at the data. Think of question(s) you want to explore.\n",
    "Here are some ideas if you're stuck: What is the correlation between X and Y? What are the most popular majors? Least popular? Can you summarize the data?"
   ]
  },
  {
   "cell_type": "raw",
   "metadata": {},
   "source": [
    "Explore your question! Analyze the data. Look for trends and relationships. Use functions like: \n",
    "df.groupby(['Column1', 'Column2'])['Column3'].mean() or .sum(),df.min(), df.max(), df.mean(), df.median(), df.sum(), df.corr()\n",
    "Refer to our cheat sheet on our website for more information on these functions"
   ]
  },
  {
   "cell_type": "code",
   "execution_count": null,
   "metadata": {},
   "outputs": [],
   "source": [
    "\n",
    "\n",
    "\n",
    "\n",
    "\n",
    "\n",
    "\n",
    "\n",
    "\n",
    "\n"
   ]
  },
  {
   "cell_type": "raw",
   "metadata": {},
   "source": [
    "Create a visualization of your data. Determine what kind of graph fits your data best (ex: bar graphs to compare groups, line graphs to compare changes over time) and plot it using pandas or matplotlib"
   ]
  },
  {
   "cell_type": "code",
   "execution_count": null,
   "metadata": {},
   "outputs": [],
   "source": [
    "\n",
    "\n",
    "\n",
    "\n"
   ]
  },
  {
   "cell_type": "markdown",
   "metadata": {},
   "source": [
    "Congratulations! You're on your way to becoming a data scientist!"
   ]
  },
  {
   "cell_type": "raw",
   "metadata": {},
   "source": [
    "You can go back and work on a different question with this same dataset, or go back to our website and pick a new topic."
   ]
  }
 ],
 "metadata": {
  "kernelspec": {
   "display_name": "Python 3",
   "language": "python",
   "name": "python3"
  },
  "language_info": {
   "codemirror_mode": {
    "name": "ipython",
    "version": 3
   },
   "file_extension": ".py",
   "mimetype": "text/x-python",
   "name": "python",
   "nbconvert_exporter": "python",
   "pygments_lexer": "ipython3",
   "version": "3.7.0"
  }
 },
 "nbformat": 4,
 "nbformat_minor": 2
}
