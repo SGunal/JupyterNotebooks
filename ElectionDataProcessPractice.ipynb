{
 "cells": [
  {
   "cell_type": "code",
   "execution_count": 1,
   "metadata": {},
   "outputs": [],
   "source": [
    "#import pandas csv"
   ]
  },
  {
   "cell_type": "code",
   "execution_count": 2,
   "metadata": {},
   "outputs": [],
   "source": [
    "#make graphs display automatically with %matplotlib inline"
   ]
  },
  {
   "cell_type": "code",
   "execution_count": 3,
   "metadata": {},
   "outputs": [],
   "source": [
    "#create a new dataframe using the stateElections dataset\n",
    "#dataFrameName = pd.read_csv(\"FileName.csv, low_memory = False\") -- this is the syntax for importing a dataset into your code\n",
    "#you do not always need to include low_memory = false (this dataset just wouldn't load without it)"
   ]
  },
  {
   "cell_type": "code",
   "execution_count": 4,
   "metadata": {},
   "outputs": [],
   "source": [
    "#display the first 10 lines of the dataframe"
   ]
  },
  {
   "cell_type": "code",
   "execution_count": 5,
   "metadata": {},
   "outputs": [],
   "source": [
    "#check for null values (this is helpful for cleaning the data)\n",
    "#df.info() gives you the number of non-null values and type of data in every column\n",
    "#if a column has less non-null entries than the total number of entries, then it has some null values\n",
    "#does this dataset have any null values?"
   ]
  },
  {
   "cell_type": "code",
   "execution_count": 6,
   "metadata": {},
   "outputs": [],
   "source": [
    "#learn more about the columns with type int64 (or other number types) \n",
    "#df.describe() will give you various measurements such as mean, min, and max"
   ]
  },
  {
   "cell_type": "code",
   "execution_count": 7,
   "metadata": {},
   "outputs": [],
   "source": [
    "#you can also use this for specific columns with type object - but it will output slightly different information\n",
    "#df['ColumnName'].describe will tell you how many total entries there are, how many unique entries there are, what the most frequent value is, and how many times it appears"
   ]
  },
  {
   "cell_type": "code",
   "execution_count": 8,
   "metadata": {},
   "outputs": [],
   "source": [
    "#do this for all 3 of the non-integer columns"
   ]
  },
  {
   "cell_type": "code",
   "execution_count": 9,
   "metadata": {},
   "outputs": [],
   "source": [
    "#continue to explore the data! you can ask lots of different questions\n",
    "#ex: how frequently does each party appear?\n",
    "#df['ColumnName'].value_counts() sorts the unique values in a column based on their frequency"
   ]
  },
  {
   "cell_type": "code",
   "execution_count": 10,
   "metadata": {},
   "outputs": [],
   "source": [
    "#another example is: what were the total Dem Votes and GOP Votes per state in the whole dataframe?\n",
    "#follow the steps in the next few cells to answer this question"
   ]
  },
  {
   "cell_type": "code",
   "execution_count": 11,
   "metadata": {},
   "outputs": [],
   "source": [
    "#create a new dataframe from the original that only includes the State, Dem Votes, and GOP Votes columns\n",
    "#newDataFrame = oldDataFrame[['ColumnName1', 'ColumnName2',...]] -- syntax to create a new dataframe that includes columns from an old dataframe\n",
    "#creating a new dataframe can be helpful because it'll be smaller and have less extra data, and you won't do anything to your original dataframe"
   ]
  },
  {
   "cell_type": "code",
   "execution_count": 12,
   "metadata": {},
   "outputs": [],
   "source": [
    "#display the first 10 rows of the new dataframe"
   ]
  },
  {
   "cell_type": "code",
   "execution_count": 13,
   "metadata": {},
   "outputs": [],
   "source": [
    "#this is kind of confusing, but create a new dataframe from this one that groups the data by state, and finds the sum of the Dem Votes per state\n",
    "#df.groupby(['Column_Name']) arranges the other columns in a dataframe based on one specific column\n",
    "#you can add [Column_Name].sum() to find the sum of another column per entry (ex: Dem Votes)\n",
    "#finding the sum of the Dem Votes and the GOP Votes when the dataframe is grouped by the state will give you the total Dem Votes and GOP Votes per state"
   ]
  },
  {
   "cell_type": "code",
   "execution_count": 14,
   "metadata": {},
   "outputs": [],
   "source": [
    "#display the first 10 rows of the new dataframe"
   ]
  },
  {
   "cell_type": "code",
   "execution_count": 15,
   "metadata": {},
   "outputs": [],
   "source": [
    "#now you can make a graph of the Dem Votes per state!\n",
    "#dataFrameName.plot.bar() creates a bar graph\n",
    "#you can adjust the size with figsize = (x, y)"
   ]
  },
  {
   "cell_type": "code",
   "execution_count": 16,
   "metadata": {},
   "outputs": [],
   "source": [
    "#do the same for the GOP Votes (create a new dataset that is grouped by the state and finds the sum of the GOP Votes)"
   ]
  },
  {
   "cell_type": "code",
   "execution_count": 17,
   "metadata": {},
   "outputs": [],
   "source": [
    "#display the first 10 rows of the new dataframe"
   ]
  },
  {
   "cell_type": "code",
   "execution_count": 18,
   "metadata": {},
   "outputs": [],
   "source": [
    "#make another graph! \n",
    "#use the same code as before but with your new dataframe for the GOP Votes"
   ]
  },
  {
   "cell_type": "code",
   "execution_count": 19,
   "metadata": {},
   "outputs": [],
   "source": [
    "#now let's see if we can combine these two!\n",
    "#try creating a new dataframe that finds the sum of both the Dem Votes and the GOP Votes per state\n",
    "#hint: the .sum() function can be used for multiple columns at once"
   ]
  },
  {
   "cell_type": "code",
   "execution_count": 20,
   "metadata": {},
   "outputs": [],
   "source": [
    "#display the first 10 rows of the new dataframe"
   ]
  },
  {
   "cell_type": "code",
   "execution_count": 21,
   "metadata": {},
   "outputs": [],
   "source": [
    "#now let's try making a graph with two x-axis values!\n",
    "#use the same code as before but with your new dataframe for both the Dem Votes and the GOP Votes"
   ]
  },
  {
   "cell_type": "code",
   "execution_count": 22,
   "metadata": {},
   "outputs": [],
   "source": [
    "#this graph shows the total Dem Votes and GOP Votes per state for the entire dataframe\n",
    "#however, the dataframe doesn't have election data for every state each year\n",
    "#what if we just wanted to know the total Dem Votes and GOP Votes per state in 2012?"
   ]
  },
  {
   "cell_type": "code",
   "execution_count": 23,
   "metadata": {},
   "outputs": [],
   "source": [
    "#create a new dataframe from the original dataframe that only includes entries where the year is 2012\n",
    "#newDataFrame = oldDataFrame[oldDataFrame.ColumnName == desiredValue] \n",
    "#the syntax for selecting specific entries based on the value of one column is different than creating a dataframe by taking whole columns from the original"
   ]
  },
  {
   "cell_type": "code",
   "execution_count": 24,
   "metadata": {},
   "outputs": [],
   "source": [
    "#display the first 10 rows of the new dataframe"
   ]
  },
  {
   "cell_type": "code",
   "execution_count": 25,
   "metadata": {},
   "outputs": [],
   "source": [
    "#now we can do the same thing as before\n",
    "#create a new dataframe from this dataframe that just includes the state, Dem Votes, and GOP Votes"
   ]
  },
  {
   "cell_type": "code",
   "execution_count": 26,
   "metadata": {},
   "outputs": [],
   "source": [
    "#display the first 10 rows of the new dataframe"
   ]
  },
  {
   "cell_type": "code",
   "execution_count": 27,
   "metadata": {},
   "outputs": [],
   "source": [
    "#group the dataframe by state and find the sum of the Dem Votes and GOP Votes\n",
    "#instead of creating a new dataframe, you can just update the dataframe to what you want it to be\n",
    "#you can do this by setting the dataframe equal to itself (but still include the groupby and sum)"
   ]
  },
  {
   "cell_type": "code",
   "execution_count": 28,
   "metadata": {},
   "outputs": [],
   "source": [
    "#display the first 10 rows of the updated dataframe"
   ]
  },
  {
   "cell_type": "code",
   "execution_count": 29,
   "metadata": {},
   "outputs": [],
   "source": [
    "#now we can make another graph!\n",
    "#use the dataframe that you just updated"
   ]
  },
  {
   "cell_type": "code",
   "execution_count": 30,
   "metadata": {},
   "outputs": [],
   "source": [
    "#now it's your turn! feel free to ask more questions and create more graphs!\n",
    "#however, you don't always need to use a graph to answer a question\n",
    "#also, there are lots of different types of graphs and functions - check out the resources page to learn how to use them!"
   ]
  },
  {
   "cell_type": "code",
   "execution_count": 31,
   "metadata": {},
   "outputs": [],
   "source": [
    "#have fun!!!"
   ]
  },
  {
   "cell_type": "code",
   "execution_count": null,
   "metadata": {},
   "outputs": [],
   "source": []
  }
 ],
 "metadata": {
  "kernelspec": {
   "display_name": "Python 3",
   "language": "python",
   "name": "python3"
  },
  "language_info": {
   "codemirror_mode": {
    "name": "ipython",
    "version": 3
   },
   "file_extension": ".py",
   "mimetype": "text/x-python",
   "name": "python",
   "nbconvert_exporter": "python",
   "pygments_lexer": "ipython3",
   "version": "3.6.5"
  }
 },
 "nbformat": 4,
 "nbformat_minor": 2
}
