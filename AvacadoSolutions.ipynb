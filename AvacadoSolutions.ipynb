{
 "cells": [
  {
   "cell_type": "markdown",
   "metadata": {
    "deletable": true,
    "editable": true
   },
   "source": [
    "First things first, you need to find which language we're going to be using. In this case, we will be making a graph, so you should import Pandas. Since our graph will be loaded off of preset data found online, you'll also need to import the document type. In this case, and in most, its a CSV file. (CSV stands for Comma Separated Values.)"
   ]
  },
  {
   "cell_type": "code",
   "execution_count": 1,
   "metadata": {
    "collapsed": true,
    "deletable": true,
    "editable": true
   },
   "outputs": [],
   "source": [
    "import pandas as pd\n",
    "import csv"
   ]
  },
  {
   "cell_type": "markdown",
   "metadata": {
    "deletable": true,
    "editable": true
   },
   "source": [
    "In order for pandas to read the file, use pd.read_cvs('avocado.csv'), and give it a variable!"
   ]
  },
  {
   "cell_type": "code",
   "execution_count": 2,
   "metadata": {
    "collapsed": true,
    "deletable": true,
    "editable": true
   },
   "outputs": [],
   "source": [
    "df = pd.read_csv('avocado.csv')"
   ]
  },
  {
   "cell_type": "markdown",
   "metadata": {
    "deletable": true,
    "editable": true
   },
   "source": [
    "Lets think of a question we want to answer using a graph. Lets use \"What year had the highest average avocado prices?\""
   ]
  },
  {
   "cell_type": "markdown",
   "metadata": {
    "deletable": true,
    "editable": true
   },
   "source": [
    "Now, use df.head(#) to show the first # rows in the dataframe (DF). If you want to find the dataframe of a certain collumn assign a variable to the collumn. \n",
    "Ex: Lets find the dataframe for the Total Volume of avocados. \n",
    "    TV = df['Total Volume']\n",
    "    The capitals and spaces both matter, so be sure to type what the code has.\n",
    "    \n",
    "Now find the dataframes for both the year and the AveragePrice."
   ]
  },
  {
   "cell_type": "code",
   "execution_count": 3,
   "metadata": {
    "collapsed": true,
    "deletable": true,
    "editable": true
   },
   "outputs": [],
   "source": [
    "Y = df['year']\n",
    "AP = df['AveragePrice']"
   ]
  },
  {
   "cell_type": "markdown",
   "metadata": {
    "deletable": true,
    "editable": true
   },
   "source": [
    "To merge two or more dataframes into one, use double brackets and a comma between the collumn names. Create a new df (say, df2) and create one dataframe that shows both the year and the AveragePrice.\n",
    "\n",
    "Use a print statement to make it visible, or use head to make it into a chart."
   ]
  },
  {
   "cell_type": "code",
   "execution_count": 4,
   "metadata": {
    "collapsed": false,
    "deletable": true,
    "editable": true
   },
   "outputs": [
    {
     "name": "stdout",
     "output_type": "stream",
     "text": [
      "       year  AveragePrice\n",
      "0      2015          1.33\n",
      "1      2015          1.35\n",
      "2      2015          0.93\n",
      "3      2015          1.08\n",
      "4      2015          1.28\n",
      "5      2015          1.26\n",
      "6      2015          0.99\n",
      "7      2015          0.98\n",
      "8      2015          1.02\n",
      "9      2015          1.07\n",
      "10     2015          1.12\n",
      "11     2015          1.28\n",
      "12     2015          1.31\n",
      "13     2015          0.99\n",
      "14     2015          1.33\n",
      "15     2015          1.28\n",
      "16     2015          1.11\n",
      "17     2015          1.07\n",
      "18     2015          1.34\n",
      "19     2015          1.33\n",
      "20     2015          1.12\n",
      "21     2015          1.45\n",
      "22     2015          1.11\n",
      "23     2015          1.26\n",
      "24     2015          1.05\n",
      "25     2015          1.35\n",
      "26     2015          1.37\n",
      "27     2015          1.27\n",
      "28     2015          1.32\n",
      "29     2015          1.07\n",
      "...     ...           ...\n",
      "18219  2018          1.56\n",
      "18220  2018          1.53\n",
      "18221  2018          1.61\n",
      "18222  2018          1.63\n",
      "18223  2018          1.59\n",
      "18224  2018          1.51\n",
      "18225  2018          1.60\n",
      "18226  2018          1.73\n",
      "18227  2018          1.63\n",
      "18228  2018          1.46\n",
      "18229  2018          1.49\n",
      "18230  2018          1.64\n",
      "18231  2018          1.47\n",
      "18232  2018          1.41\n",
      "18233  2018          1.80\n",
      "18234  2018          1.83\n",
      "18235  2018          1.82\n",
      "18236  2018          1.48\n",
      "18237  2018          1.62\n",
      "18238  2018          1.56\n",
      "18239  2018          1.56\n",
      "18240  2018          1.54\n",
      "18241  2018          1.57\n",
      "18242  2018          1.56\n",
      "18243  2018          1.57\n",
      "18244  2018          1.63\n",
      "18245  2018          1.71\n",
      "18246  2018          1.87\n",
      "18247  2018          1.93\n",
      "18248  2018          1.62\n",
      "\n",
      "[18249 rows x 2 columns]\n"
     ]
    },
    {
     "data": {
      "text/html": [
       "<div>\n",
       "<table border=\"1\" class=\"dataframe\">\n",
       "  <thead>\n",
       "    <tr style=\"text-align: right;\">\n",
       "      <th></th>\n",
       "      <th>year</th>\n",
       "      <th>AveragePrice</th>\n",
       "    </tr>\n",
       "  </thead>\n",
       "  <tbody>\n",
       "    <tr>\n",
       "      <th>0</th>\n",
       "      <td>2015</td>\n",
       "      <td>1.33</td>\n",
       "    </tr>\n",
       "    <tr>\n",
       "      <th>1</th>\n",
       "      <td>2015</td>\n",
       "      <td>1.35</td>\n",
       "    </tr>\n",
       "    <tr>\n",
       "      <th>2</th>\n",
       "      <td>2015</td>\n",
       "      <td>0.93</td>\n",
       "    </tr>\n",
       "    <tr>\n",
       "      <th>3</th>\n",
       "      <td>2015</td>\n",
       "      <td>1.08</td>\n",
       "    </tr>\n",
       "    <tr>\n",
       "      <th>4</th>\n",
       "      <td>2015</td>\n",
       "      <td>1.28</td>\n",
       "    </tr>\n",
       "  </tbody>\n",
       "</table>\n",
       "</div>"
      ],
      "text/plain": [
       "   year  AveragePrice\n",
       "0  2015          1.33\n",
       "1  2015          1.35\n",
       "2  2015          0.93\n",
       "3  2015          1.08\n",
       "4  2015          1.28"
      ]
     },
     "execution_count": 4,
     "metadata": {},
     "output_type": "execute_result"
    }
   ],
   "source": [
    "df2 = df[['year', 'AveragePrice']]\n",
    "print(df2)\n",
    "df2.head()"
   ]
  },
  {
   "cell_type": "markdown",
   "metadata": {
    "deletable": true,
    "editable": true
   },
   "source": [
    "Here's where we get more complicated. Groupby is function used to sort a dataframe based on similarites. So for example, in a moment, you will run the code \"df3 = df.groupby(['year'])[['AveragePrice']].mean\" (*Creating new variables helps to keep the original dataframe clean from alterations.*) Here, we are grouping the mean of the AveragePrice by the mean of the year into one chart. \n",
    "\n",
    "Run this code now, and be sure to use a print statement to make it visible, or use head to show it as a chart."
   ]
  },
  {
   "cell_type": "code",
   "execution_count": 5,
   "metadata": {
    "collapsed": false,
    "deletable": true,
    "editable": true
   },
   "outputs": [
    {
     "name": "stdout",
     "output_type": "stream",
     "text": [
      "      AveragePrice\n",
      "year              \n",
      "2015      1.375590\n",
      "2016      1.338640\n",
      "2017      1.515128\n",
      "2018      1.347531\n"
     ]
    },
    {
     "data": {
      "text/html": [
       "<div>\n",
       "<table border=\"1\" class=\"dataframe\">\n",
       "  <thead>\n",
       "    <tr style=\"text-align: right;\">\n",
       "      <th></th>\n",
       "      <th>AveragePrice</th>\n",
       "    </tr>\n",
       "    <tr>\n",
       "      <th>year</th>\n",
       "      <th></th>\n",
       "    </tr>\n",
       "  </thead>\n",
       "  <tbody>\n",
       "    <tr>\n",
       "      <th>2015</th>\n",
       "      <td>1.375590</td>\n",
       "    </tr>\n",
       "    <tr>\n",
       "      <th>2016</th>\n",
       "      <td>1.338640</td>\n",
       "    </tr>\n",
       "    <tr>\n",
       "      <th>2017</th>\n",
       "      <td>1.515128</td>\n",
       "    </tr>\n",
       "    <tr>\n",
       "      <th>2018</th>\n",
       "      <td>1.347531</td>\n",
       "    </tr>\n",
       "  </tbody>\n",
       "</table>\n",
       "</div>"
      ],
      "text/plain": [
       "      AveragePrice\n",
       "year              \n",
       "2015      1.375590\n",
       "2016      1.338640\n",
       "2017      1.515128\n",
       "2018      1.347531"
      ]
     },
     "execution_count": 5,
     "metadata": {},
     "output_type": "execute_result"
    }
   ],
   "source": [
    "df3 = df.groupby(['year'])[['AveragePrice']].mean()\n",
    "print(df3)\n",
    "df3.head()"
   ]
  },
  {
   "cell_type": "markdown",
   "metadata": {
    "deletable": true,
    "editable": true
   },
   "source": [
    "Now that we've grouped our dataframes into a chart with an X-value and a Y-value, lets create our chart! \n",
    "\n",
    "Lets add MatPlotLib to our code without using import. Use \"%matplotlib inline\" to add it.\n",
    "\n",
    "Decide which type of graph you'd like to create. A scatter plot is good for correlation. Bar graphs and histograms are good for statistics. A pie chart is good for percentages. A line graph is good for change over time.\n",
    "\n",
    "Once you've decided use \"df3.plot.___()\" Instead of the underscores, type in your graph type (.line, .bar, .histogram, ect.)"
   ]
  },
  {
   "cell_type": "code",
   "execution_count": 6,
   "metadata": {
    "collapsed": false,
    "deletable": true,
    "editable": true
   },
   "outputs": [
    {
     "data": {
      "text/plain": [
       "<matplotlib.axes._subplots.AxesSubplot at 0x1107cce10>"
      ]
     },
     "execution_count": 6,
     "metadata": {},
     "output_type": "execute_result"
    },
    {
     "data": {
      "image/png": "[encoded data removed]",
      "text/plain": [
       "<matplotlib.figure.Figure at 0x10f8aba20>"
      ]
     },
     "metadata": {},
     "output_type": "display_data"
    }
   ],
   "source": [
    "%matplotlib inline\n",
    "df3.plot.line()"
   ]
  },
  {
   "cell_type": "markdown",
   "metadata": {
    "deletable": true,
    "editable": true
   },
   "source": [
    "So, were you able to answer the question? If so, either return to our page, or click the Insert tab here on Jupyter and then Cell Below. Continue playing with commands and creating more detailed graphs and charts of your own."
   ]
  },
  {
   "cell_type": "code",
   "execution_count": null,
   "metadata": {
    "collapsed": true,
    "deletable": true,
    "editable": true
   },
   "outputs": [],
   "source": []
  }
 ],
 "metadata": {
  "kernelspec": {
   "display_name": "Python 3",
   "language": "python",
   "name": "python3"
  },
  "language_info": {
   "codemirror_mode": {
    "name": "ipython",
    "version": 3
   },
   "file_extension": ".py",
   "mimetype": "text/x-python",
   "name": "python",
   "nbconvert_exporter": "python",
   "pygments_lexer": "ipython3",
   "version": "3.5.2"
  }
 },
 "nbformat": 4,
 "nbformat_minor": 2
}
