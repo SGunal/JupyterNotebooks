{
 "cells": [
  {
   "cell_type": "code",
   "execution_count": 1,
   "metadata": {},
   "outputs": [],
   "source": [
    "#import pandas\n",
    "import pandas as pd"
   ]
  },
  {
   "cell_type": "code",
   "execution_count": 2,
   "metadata": {},
   "outputs": [],
   "source": [
    "#this makes graphs display automatically\n",
    "%matplotlib inline"
   ]
  },
  {
   "cell_type": "code",
   "execution_count": 3,
   "metadata": {},
   "outputs": [],
   "source": [
    "#create a new dataframe using the stateElections dataset\n",
    "#dataFrameName = pd.read_csv(\"FileName.csv, low_memory = False\") -- this is the syntax for importing a dataset into your code\n",
    "df = pd.read_csv(\"stateElections.csv\", low_memory = False)"
   ]
  },
  {
   "cell_type": "code",
   "execution_count": 4,
   "metadata": {},
   "outputs": [
    {
     "data": {
      "text/html": [
       "<div>\n",
       "<style scoped>\n",
       "    .dataframe tbody tr th:only-of-type {\n",
       "        vertical-align: middle;\n",
       "    }\n",
       "\n",
       "    .dataframe tbody tr th {\n",
       "        vertical-align: top;\n",
       "    }\n",
       "\n",
       "    .dataframe thead th {\n",
       "        text-align: right;\n",
       "    }\n",
       "</style>\n",
       "<table border=\"1\" class=\"dataframe\">\n",
       "  <thead>\n",
       "    <tr style=\"text-align: right;\">\n",
       "      <th></th>\n",
       "      <th>State</th>\n",
       "      <th>District</th>\n",
       "      <th>Year</th>\n",
       "      <th>Party</th>\n",
       "      <th>Incumbent</th>\n",
       "      <th>Dem Votes</th>\n",
       "      <th>GOP Votes</th>\n",
       "      <th>Other Votes</th>\n",
       "    </tr>\n",
       "  </thead>\n",
       "  <tbody>\n",
       "    <tr>\n",
       "      <th>0</th>\n",
       "      <td>AK</td>\n",
       "      <td>1</td>\n",
       "      <td>1992</td>\n",
       "      <td>D</td>\n",
       "      <td>0</td>\n",
       "      <td>3019</td>\n",
       "      <td>3002</td>\n",
       "      <td>0</td>\n",
       "    </tr>\n",
       "    <tr>\n",
       "      <th>1</th>\n",
       "      <td>AK</td>\n",
       "      <td>2</td>\n",
       "      <td>1992</td>\n",
       "      <td>D</td>\n",
       "      <td>1</td>\n",
       "      <td>4704</td>\n",
       "      <td>2169</td>\n",
       "      <td>0</td>\n",
       "    </tr>\n",
       "    <tr>\n",
       "      <th>2</th>\n",
       "      <td>AK</td>\n",
       "      <td>3</td>\n",
       "      <td>1992</td>\n",
       "      <td>D</td>\n",
       "      <td>1</td>\n",
       "      <td>5210</td>\n",
       "      <td>2233</td>\n",
       "      <td>0</td>\n",
       "    </tr>\n",
       "    <tr>\n",
       "      <th>3</th>\n",
       "      <td>AK</td>\n",
       "      <td>4</td>\n",
       "      <td>1992</td>\n",
       "      <td>R</td>\n",
       "      <td>1</td>\n",
       "      <td>1754</td>\n",
       "      <td>4538</td>\n",
       "      <td>294</td>\n",
       "    </tr>\n",
       "    <tr>\n",
       "      <th>4</th>\n",
       "      <td>AK</td>\n",
       "      <td>5</td>\n",
       "      <td>1992</td>\n",
       "      <td>D</td>\n",
       "      <td>1</td>\n",
       "      <td>3953</td>\n",
       "      <td>0</td>\n",
       "      <td>1153</td>\n",
       "    </tr>\n",
       "    <tr>\n",
       "      <th>5</th>\n",
       "      <td>AK</td>\n",
       "      <td>6</td>\n",
       "      <td>1992</td>\n",
       "      <td>D</td>\n",
       "      <td>1</td>\n",
       "      <td>3802</td>\n",
       "      <td>0</td>\n",
       "      <td>0</td>\n",
       "    </tr>\n",
       "    <tr>\n",
       "      <th>6</th>\n",
       "      <td>AK</td>\n",
       "      <td>7</td>\n",
       "      <td>1992</td>\n",
       "      <td>R</td>\n",
       "      <td>1</td>\n",
       "      <td>2433</td>\n",
       "      <td>3078</td>\n",
       "      <td>482</td>\n",
       "    </tr>\n",
       "    <tr>\n",
       "      <th>7</th>\n",
       "      <td>AK</td>\n",
       "      <td>8</td>\n",
       "      <td>1992</td>\n",
       "      <td>R</td>\n",
       "      <td>0</td>\n",
       "      <td>2438</td>\n",
       "      <td>2634</td>\n",
       "      <td>524</td>\n",
       "    </tr>\n",
       "    <tr>\n",
       "      <th>8</th>\n",
       "      <td>AK</td>\n",
       "      <td>9</td>\n",
       "      <td>1992</td>\n",
       "      <td>D</td>\n",
       "      <td>1</td>\n",
       "      <td>2561</td>\n",
       "      <td>2343</td>\n",
       "      <td>672</td>\n",
       "    </tr>\n",
       "    <tr>\n",
       "      <th>9</th>\n",
       "      <td>AK</td>\n",
       "      <td>10</td>\n",
       "      <td>1992</td>\n",
       "      <td>R</td>\n",
       "      <td>0</td>\n",
       "      <td>2092</td>\n",
       "      <td>3607</td>\n",
       "      <td>899</td>\n",
       "    </tr>\n",
       "  </tbody>\n",
       "</table>\n",
       "</div>"
      ],
      "text/plain": [
       "  State District  Year Party  Incumbent  Dem Votes  GOP Votes  Other Votes\n",
       "0    AK        1  1992     D          0       3019       3002            0\n",
       "1    AK        2  1992     D          1       4704       2169            0\n",
       "2    AK        3  1992     D          1       5210       2233            0\n",
       "3    AK        4  1992     R          1       1754       4538          294\n",
       "4    AK        5  1992     D          1       3953          0         1153\n",
       "5    AK        6  1992     D          1       3802          0            0\n",
       "6    AK        7  1992     R          1       2433       3078          482\n",
       "7    AK        8  1992     R          0       2438       2634          524\n",
       "8    AK        9  1992     D          1       2561       2343          672\n",
       "9    AK       10  1992     R          0       2092       3607          899"
      ]
     },
     "execution_count": 4,
     "metadata": {},
     "output_type": "execute_result"
    }
   ],
   "source": [
    "#display the first 10 lines of the dataframe\n",
    "df.head(10)"
   ]
  },
  {
   "cell_type": "code",
   "execution_count": 5,
   "metadata": {
    "scrolled": true
   },
   "outputs": [
    {
     "name": "stdout",
     "output_type": "stream",
     "text": [
      "<class 'pandas.core.frame.DataFrame'>\n",
      "RangeIndex: 72759 entries, 0 to 72758\n",
      "Data columns (total 8 columns):\n",
      "State          72759 non-null object\n",
      "District       72759 non-null object\n",
      "Year           72759 non-null int64\n",
      "Party          72759 non-null object\n",
      "Incumbent      72759 non-null int64\n",
      "Dem Votes      72759 non-null int64\n",
      "GOP Votes      72759 non-null int64\n",
      "Other Votes    72759 non-null int64\n",
      "dtypes: int64(5), object(3)\n",
      "memory usage: 4.4+ MB\n"
     ]
    }
   ],
   "source": [
    "#check for null values (this is helpful for cleaning the data)\n",
    "#df.info() gives you the number of non-null values and type of data in every column\n",
    "#if a column has less non-null entries than the total number of entries, then it has some null values\n",
    "#however, this dataset has already been cleaned and doesn't have any null values\n",
    "df.info()"
   ]
  },
  {
   "cell_type": "code",
   "execution_count": 6,
   "metadata": {},
   "outputs": [
    {
     "data": {
      "text/html": [
       "<div>\n",
       "<style scoped>\n",
       "    .dataframe tbody tr th:only-of-type {\n",
       "        vertical-align: middle;\n",
       "    }\n",
       "\n",
       "    .dataframe tbody tr th {\n",
       "        vertical-align: top;\n",
       "    }\n",
       "\n",
       "    .dataframe thead th {\n",
       "        text-align: right;\n",
       "    }\n",
       "</style>\n",
       "<table border=\"1\" class=\"dataframe\">\n",
       "  <thead>\n",
       "    <tr style=\"text-align: right;\">\n",
       "      <th></th>\n",
       "      <th>Year</th>\n",
       "      <th>Incumbent</th>\n",
       "      <th>Dem Votes</th>\n",
       "      <th>GOP Votes</th>\n",
       "      <th>Other Votes</th>\n",
       "    </tr>\n",
       "  </thead>\n",
       "  <tbody>\n",
       "    <tr>\n",
       "      <th>count</th>\n",
       "      <td>72759.000000</td>\n",
       "      <td>72759.000000</td>\n",
       "      <td>72759.000000</td>\n",
       "      <td>72759.000000</td>\n",
       "      <td>72759.000000</td>\n",
       "    </tr>\n",
       "    <tr>\n",
       "      <th>mean</th>\n",
       "      <td>1993.620088</td>\n",
       "      <td>0.751536</td>\n",
       "      <td>8916.534765</td>\n",
       "      <td>8210.841985</td>\n",
       "      <td>447.971811</td>\n",
       "    </tr>\n",
       "    <tr>\n",
       "      <th>std</th>\n",
       "      <td>11.664230</td>\n",
       "      <td>0.432125</td>\n",
       "      <td>12974.355574</td>\n",
       "      <td>13037.066205</td>\n",
       "      <td>1904.369063</td>\n",
       "    </tr>\n",
       "    <tr>\n",
       "      <th>min</th>\n",
       "      <td>1971.000000</td>\n",
       "      <td>0.000000</td>\n",
       "      <td>0.000000</td>\n",
       "      <td>0.000000</td>\n",
       "      <td>0.000000</td>\n",
       "    </tr>\n",
       "    <tr>\n",
       "      <th>25%</th>\n",
       "      <td>1984.000000</td>\n",
       "      <td>1.000000</td>\n",
       "      <td>2217.000000</td>\n",
       "      <td>365.500000</td>\n",
       "      <td>0.000000</td>\n",
       "    </tr>\n",
       "    <tr>\n",
       "      <th>50%</th>\n",
       "      <td>1994.000000</td>\n",
       "      <td>1.000000</td>\n",
       "      <td>5721.000000</td>\n",
       "      <td>4556.000000</td>\n",
       "      <td>0.000000</td>\n",
       "    </tr>\n",
       "    <tr>\n",
       "      <th>75%</th>\n",
       "      <td>2004.000000</td>\n",
       "      <td>1.000000</td>\n",
       "      <td>11242.000000</td>\n",
       "      <td>10539.500000</td>\n",
       "      <td>0.000000</td>\n",
       "    </tr>\n",
       "    <tr>\n",
       "      <th>max</th>\n",
       "      <td>2012.000000</td>\n",
       "      <td>1.000000</td>\n",
       "      <td>447725.000000</td>\n",
       "      <td>440274.000000</td>\n",
       "      <td>123096.000000</td>\n",
       "    </tr>\n",
       "  </tbody>\n",
       "</table>\n",
       "</div>"
      ],
      "text/plain": [
       "               Year     Incumbent      Dem Votes      GOP Votes    Other Votes\n",
       "count  72759.000000  72759.000000   72759.000000   72759.000000   72759.000000\n",
       "mean    1993.620088      0.751536    8916.534765    8210.841985     447.971811\n",
       "std       11.664230      0.432125   12974.355574   13037.066205    1904.369063\n",
       "min     1971.000000      0.000000       0.000000       0.000000       0.000000\n",
       "25%     1984.000000      1.000000    2217.000000     365.500000       0.000000\n",
       "50%     1994.000000      1.000000    5721.000000    4556.000000       0.000000\n",
       "75%     2004.000000      1.000000   11242.000000   10539.500000       0.000000\n",
       "max     2012.000000      1.000000  447725.000000  440274.000000  123096.000000"
      ]
     },
     "execution_count": 6,
     "metadata": {},
     "output_type": "execute_result"
    }
   ],
   "source": [
    "#learn more about the columns with type int64 (or other number types) \n",
    "#df.describe() will give you various measurements such as mean, min, and max\n",
    "df.describe()"
   ]
  },
  {
   "cell_type": "code",
   "execution_count": 7,
   "metadata": {},
   "outputs": [
    {
     "data": {
      "text/plain": [
       "count     72759\n",
       "unique       38\n",
       "top          PA\n",
       "freq       4263\n",
       "Name: State, dtype: object"
      ]
     },
     "execution_count": 7,
     "metadata": {},
     "output_type": "execute_result"
    }
   ],
   "source": [
    "#you can also use this for specific columns with type object - but it will output slightly different information\n",
    "#df['ColumnName'].describe will tell you how many total entries there are, how many unique entries there are, what the most frequent value is, and how many times it appears\n",
    "df['State'].describe()"
   ]
  },
  {
   "cell_type": "code",
   "execution_count": 8,
   "metadata": {},
   "outputs": [
    {
     "data": {
      "text/plain": [
       "count     72759\n",
       "unique      872\n",
       "top          12\n",
       "freq        643\n",
       "Name: District, dtype: object"
      ]
     },
     "execution_count": 8,
     "metadata": {},
     "output_type": "execute_result"
    }
   ],
   "source": [
    "df['District'].describe()"
   ]
  },
  {
   "cell_type": "code",
   "execution_count": 9,
   "metadata": {},
   "outputs": [
    {
     "data": {
      "text/plain": [
       "count     72759\n",
       "unique        5\n",
       "top           D\n",
       "freq      41430\n",
       "Name: Party, dtype: object"
      ]
     },
     "execution_count": 9,
     "metadata": {},
     "output_type": "execute_result"
    }
   ],
   "source": [
    "df['Party'].describe()"
   ]
  },
  {
   "cell_type": "code",
   "execution_count": 10,
   "metadata": {},
   "outputs": [
    {
     "data": {
      "text/plain": [
       "D        41430\n",
       "R        31021\n",
       "Other      151\n",
       "I          107\n",
       "Both        50\n",
       "Name: Party, dtype: int64"
      ]
     },
     "execution_count": 10,
     "metadata": {},
     "output_type": "execute_result"
    }
   ],
   "source": [
    "#continue to explore the data! you can ask lots of different questions\n",
    "#ex: how frequently does each party appear?\n",
    "#df['ColumnName'].value_counts() sorts the unique values in a column based on their frequency\n",
    "df['Party'].value_counts()"
   ]
  },
  {
   "cell_type": "code",
   "execution_count": 11,
   "metadata": {},
   "outputs": [],
   "source": [
    "#ex: what were the total Dem Votes and GOP Votes per state in the whole dataframe?"
   ]
  },
  {
   "cell_type": "code",
   "execution_count": 12,
   "metadata": {},
   "outputs": [],
   "source": [
    "#create a new dataframe from the original that only includes the State, Dem Votes, and GOP Votes columns\n",
    "#newDataFrame = oldDataFrame[['ColumnName1', 'ColumnName2',...]] -- syntax to create a new dataframe that includes columns from an old dataframe\n",
    "#creating a new dataframe can be helpful because it'll be smaller and have less extra data, and you won't do anything to your original dataframe\n",
    "df1 = df[['State', 'Dem Votes', 'GOP Votes']]"
   ]
  },
  {
   "cell_type": "code",
   "execution_count": 13,
   "metadata": {},
   "outputs": [
    {
     "data": {
      "text/html": [
       "<div>\n",
       "<style scoped>\n",
       "    .dataframe tbody tr th:only-of-type {\n",
       "        vertical-align: middle;\n",
       "    }\n",
       "\n",
       "    .dataframe tbody tr th {\n",
       "        vertical-align: top;\n",
       "    }\n",
       "\n",
       "    .dataframe thead th {\n",
       "        text-align: right;\n",
       "    }\n",
       "</style>\n",
       "<table border=\"1\" class=\"dataframe\">\n",
       "  <thead>\n",
       "    <tr style=\"text-align: right;\">\n",
       "      <th></th>\n",
       "      <th>State</th>\n",
       "      <th>Dem Votes</th>\n",
       "      <th>GOP Votes</th>\n",
       "    </tr>\n",
       "  </thead>\n",
       "  <tbody>\n",
       "    <tr>\n",
       "      <th>0</th>\n",
       "      <td>AK</td>\n",
       "      <td>3019</td>\n",
       "      <td>3002</td>\n",
       "    </tr>\n",
       "    <tr>\n",
       "      <th>1</th>\n",
       "      <td>AK</td>\n",
       "      <td>4704</td>\n",
       "      <td>2169</td>\n",
       "    </tr>\n",
       "    <tr>\n",
       "      <th>2</th>\n",
       "      <td>AK</td>\n",
       "      <td>5210</td>\n",
       "      <td>2233</td>\n",
       "    </tr>\n",
       "    <tr>\n",
       "      <th>3</th>\n",
       "      <td>AK</td>\n",
       "      <td>1754</td>\n",
       "      <td>4538</td>\n",
       "    </tr>\n",
       "    <tr>\n",
       "      <th>4</th>\n",
       "      <td>AK</td>\n",
       "      <td>3953</td>\n",
       "      <td>0</td>\n",
       "    </tr>\n",
       "    <tr>\n",
       "      <th>5</th>\n",
       "      <td>AK</td>\n",
       "      <td>3802</td>\n",
       "      <td>0</td>\n",
       "    </tr>\n",
       "    <tr>\n",
       "      <th>6</th>\n",
       "      <td>AK</td>\n",
       "      <td>2433</td>\n",
       "      <td>3078</td>\n",
       "    </tr>\n",
       "    <tr>\n",
       "      <th>7</th>\n",
       "      <td>AK</td>\n",
       "      <td>2438</td>\n",
       "      <td>2634</td>\n",
       "    </tr>\n",
       "    <tr>\n",
       "      <th>8</th>\n",
       "      <td>AK</td>\n",
       "      <td>2561</td>\n",
       "      <td>2343</td>\n",
       "    </tr>\n",
       "    <tr>\n",
       "      <th>9</th>\n",
       "      <td>AK</td>\n",
       "      <td>2092</td>\n",
       "      <td>3607</td>\n",
       "    </tr>\n",
       "  </tbody>\n",
       "</table>\n",
       "</div>"
      ],
      "text/plain": [
       "  State  Dem Votes  GOP Votes\n",
       "0    AK       3019       3002\n",
       "1    AK       4704       2169\n",
       "2    AK       5210       2233\n",
       "3    AK       1754       4538\n",
       "4    AK       3953          0\n",
       "5    AK       3802          0\n",
       "6    AK       2433       3078\n",
       "7    AK       2438       2634\n",
       "8    AK       2561       2343\n",
       "9    AK       2092       3607"
      ]
     },
     "execution_count": 13,
     "metadata": {},
     "output_type": "execute_result"
    }
   ],
   "source": [
    "#display the first 10 rows of the new dataframe\n",
    "df1.head(10)"
   ]
  },
  {
   "cell_type": "code",
   "execution_count": 14,
   "metadata": {},
   "outputs": [],
   "source": [
    "#this is kind of confusing, but create a new dataframe from this one that groups the data by state, and finds the sum of the Dem Votes per state\n",
    "#groupby() arranges the other columns in a dataframe based on one specific column\n",
    "#finding the sum of the Dem Votes and the GOP Votes when the dataframe is grouped by the state will give you the total Dem Votes and GOP Votes per state\n",
    "dfD = df1.groupby(['State'])[['Dem Votes']].sum()"
   ]
  },
  {
   "cell_type": "code",
   "execution_count": 15,
   "metadata": {},
   "outputs": [
    {
     "data": {
      "text/html": [
       "<div>\n",
       "<style scoped>\n",
       "    .dataframe tbody tr th:only-of-type {\n",
       "        vertical-align: middle;\n",
       "    }\n",
       "\n",
       "    .dataframe tbody tr th {\n",
       "        vertical-align: top;\n",
       "    }\n",
       "\n",
       "    .dataframe thead th {\n",
       "        text-align: right;\n",
       "    }\n",
       "</style>\n",
       "<table border=\"1\" class=\"dataframe\">\n",
       "  <thead>\n",
       "    <tr style=\"text-align: right;\">\n",
       "      <th></th>\n",
       "      <th>Dem Votes</th>\n",
       "    </tr>\n",
       "    <tr>\n",
       "      <th>State</th>\n",
       "      <th></th>\n",
       "    </tr>\n",
       "  </thead>\n",
       "  <tbody>\n",
       "    <tr>\n",
       "      <th>AK</th>\n",
       "      <td>1030180</td>\n",
       "    </tr>\n",
       "    <tr>\n",
       "      <th>AL</th>\n",
       "      <td>5959584</td>\n",
       "    </tr>\n",
       "    <tr>\n",
       "      <th>AR</th>\n",
       "      <td>2859963</td>\n",
       "    </tr>\n",
       "    <tr>\n",
       "      <th>CA</th>\n",
       "      <td>99009022</td>\n",
       "    </tr>\n",
       "    <tr>\n",
       "      <th>CO</th>\n",
       "      <td>12794738</td>\n",
       "    </tr>\n",
       "    <tr>\n",
       "      <th>CT</th>\n",
       "      <td>13137514</td>\n",
       "    </tr>\n",
       "    <tr>\n",
       "      <th>DE</th>\n",
       "      <td>2525877</td>\n",
       "    </tr>\n",
       "    <tr>\n",
       "      <th>FL</th>\n",
       "      <td>22792957</td>\n",
       "    </tr>\n",
       "    <tr>\n",
       "      <th>GA</th>\n",
       "      <td>11003327</td>\n",
       "    </tr>\n",
       "    <tr>\n",
       "      <th>HI</th>\n",
       "      <td>3094007</td>\n",
       "    </tr>\n",
       "  </tbody>\n",
       "</table>\n",
       "</div>"
      ],
      "text/plain": [
       "       Dem Votes\n",
       "State           \n",
       "AK       1030180\n",
       "AL       5959584\n",
       "AR       2859963\n",
       "CA      99009022\n",
       "CO      12794738\n",
       "CT      13137514\n",
       "DE       2525877\n",
       "FL      22792957\n",
       "GA      11003327\n",
       "HI       3094007"
      ]
     },
     "execution_count": 15,
     "metadata": {},
     "output_type": "execute_result"
    }
   ],
   "source": [
    "#display the first 10 rows of the new dataframe\n",
    "dfD.head(10)"
   ]
  },
  {
   "cell_type": "code",
   "execution_count": 16,
   "metadata": {},
   "outputs": [
    {
     "data": {
      "text/plain": [
       "<matplotlib.axes._subplots.AxesSubplot at 0x10f57c9b0>"
      ]
     },
     "execution_count": 16,
     "metadata": {},
     "output_type": "execute_result"
    },
    {
     "data": {
      "image/png": "[encoded data removed]",
      "text/plain": [
       "<Figure size 720x432 with 1 Axes>"
      ]
     },
     "metadata": {},
     "output_type": "display_data"
    }
   ],
   "source": [
    "#now you can make a graph of the Dem Votes per state!\n",
    "#dataFrameName.plot.bar() creates a bar graph\n",
    "#you can adjust the size with figsize = (x, y)\n",
    "dfD.plot.bar(figsize = (10, 6))"
   ]
  },
  {
   "cell_type": "code",
   "execution_count": 17,
   "metadata": {},
   "outputs": [],
   "source": [
    "#do the same for the GOP Votes\n",
    "dfG = df1.groupby(['State'])[['GOP Votes']].sum()"
   ]
  },
  {
   "cell_type": "code",
   "execution_count": 18,
   "metadata": {},
   "outputs": [
    {
     "data": {
      "text/html": [
       "<div>\n",
       "<style scoped>\n",
       "    .dataframe tbody tr th:only-of-type {\n",
       "        vertical-align: middle;\n",
       "    }\n",
       "\n",
       "    .dataframe tbody tr th {\n",
       "        vertical-align: top;\n",
       "    }\n",
       "\n",
       "    .dataframe thead th {\n",
       "        text-align: right;\n",
       "    }\n",
       "</style>\n",
       "<table border=\"1\" class=\"dataframe\">\n",
       "  <thead>\n",
       "    <tr style=\"text-align: right;\">\n",
       "      <th></th>\n",
       "      <th>GOP Votes</th>\n",
       "    </tr>\n",
       "    <tr>\n",
       "      <th>State</th>\n",
       "      <th></th>\n",
       "    </tr>\n",
       "  </thead>\n",
       "  <tbody>\n",
       "    <tr>\n",
       "      <th>AK</th>\n",
       "      <td>1380065</td>\n",
       "    </tr>\n",
       "    <tr>\n",
       "      <th>AL</th>\n",
       "      <td>3620563</td>\n",
       "    </tr>\n",
       "    <tr>\n",
       "      <th>AR</th>\n",
       "      <td>2320523</td>\n",
       "    </tr>\n",
       "    <tr>\n",
       "      <th>CA</th>\n",
       "      <td>82849840</td>\n",
       "    </tr>\n",
       "    <tr>\n",
       "      <th>CO</th>\n",
       "      <td>14717388</td>\n",
       "    </tr>\n",
       "    <tr>\n",
       "      <th>CT</th>\n",
       "      <td>11846371</td>\n",
       "    </tr>\n",
       "    <tr>\n",
       "      <th>DE</th>\n",
       "      <td>2543759</td>\n",
       "    </tr>\n",
       "    <tr>\n",
       "      <th>FL</th>\n",
       "      <td>27630700</td>\n",
       "    </tr>\n",
       "    <tr>\n",
       "      <th>GA</th>\n",
       "      <td>14020359</td>\n",
       "    </tr>\n",
       "    <tr>\n",
       "      <th>HI</th>\n",
       "      <td>1742458</td>\n",
       "    </tr>\n",
       "  </tbody>\n",
       "</table>\n",
       "</div>"
      ],
      "text/plain": [
       "       GOP Votes\n",
       "State           \n",
       "AK       1380065\n",
       "AL       3620563\n",
       "AR       2320523\n",
       "CA      82849840\n",
       "CO      14717388\n",
       "CT      11846371\n",
       "DE       2543759\n",
       "FL      27630700\n",
       "GA      14020359\n",
       "HI       1742458"
      ]
     },
     "execution_count": 18,
     "metadata": {},
     "output_type": "execute_result"
    }
   ],
   "source": [
    "#display the first 10 rows of the new dataframe\n",
    "dfG.head(10)"
   ]
  },
  {
   "cell_type": "code",
   "execution_count": 19,
   "metadata": {},
   "outputs": [
    {
     "data": {
      "text/plain": [
       "<matplotlib.axes._subplots.AxesSubplot at 0x11c6e0c88>"
      ]
     },
     "execution_count": 19,
     "metadata": {},
     "output_type": "execute_result"
    },
    {
     "data": {
      "image/png": "[encoded data removed]",
      "text/plain": [
       "<Figure size 720x432 with 1 Axes>"
      ]
     },
     "metadata": {},
     "output_type": "display_data"
    }
   ],
   "source": [
    "#make another graph!\n",
    "dfG.plot.bar(figsize = (10, 6))"
   ]
  },
  {
   "cell_type": "code",
   "execution_count": 20,
   "metadata": {},
   "outputs": [],
   "source": [
    "#now let's see if we can combine these two!\n",
    "#try creating a new dataframe that finds the sum of both the Dem Votes and the GOP Votes per state\n",
    "dfTotal = df1.groupby(['State'])[['Dem Votes', 'GOP Votes']].sum()"
   ]
  },
  {
   "cell_type": "code",
   "execution_count": 21,
   "metadata": {},
   "outputs": [
    {
     "data": {
      "text/html": [
       "<div>\n",
       "<style scoped>\n",
       "    .dataframe tbody tr th:only-of-type {\n",
       "        vertical-align: middle;\n",
       "    }\n",
       "\n",
       "    .dataframe tbody tr th {\n",
       "        vertical-align: top;\n",
       "    }\n",
       "\n",
       "    .dataframe thead th {\n",
       "        text-align: right;\n",
       "    }\n",
       "</style>\n",
       "<table border=\"1\" class=\"dataframe\">\n",
       "  <thead>\n",
       "    <tr style=\"text-align: right;\">\n",
       "      <th></th>\n",
       "      <th>Dem Votes</th>\n",
       "      <th>GOP Votes</th>\n",
       "    </tr>\n",
       "    <tr>\n",
       "      <th>State</th>\n",
       "      <th></th>\n",
       "      <th></th>\n",
       "    </tr>\n",
       "  </thead>\n",
       "  <tbody>\n",
       "    <tr>\n",
       "      <th>AK</th>\n",
       "      <td>1030180</td>\n",
       "      <td>1380065</td>\n",
       "    </tr>\n",
       "    <tr>\n",
       "      <th>AL</th>\n",
       "      <td>5959584</td>\n",
       "      <td>3620563</td>\n",
       "    </tr>\n",
       "    <tr>\n",
       "      <th>AR</th>\n",
       "      <td>2859963</td>\n",
       "      <td>2320523</td>\n",
       "    </tr>\n",
       "    <tr>\n",
       "      <th>CA</th>\n",
       "      <td>99009022</td>\n",
       "      <td>82849840</td>\n",
       "    </tr>\n",
       "    <tr>\n",
       "      <th>CO</th>\n",
       "      <td>12794738</td>\n",
       "      <td>14717388</td>\n",
       "    </tr>\n",
       "    <tr>\n",
       "      <th>CT</th>\n",
       "      <td>13137514</td>\n",
       "      <td>11846371</td>\n",
       "    </tr>\n",
       "    <tr>\n",
       "      <th>DE</th>\n",
       "      <td>2525877</td>\n",
       "      <td>2543759</td>\n",
       "    </tr>\n",
       "    <tr>\n",
       "      <th>FL</th>\n",
       "      <td>22792957</td>\n",
       "      <td>27630700</td>\n",
       "    </tr>\n",
       "    <tr>\n",
       "      <th>GA</th>\n",
       "      <td>11003327</td>\n",
       "      <td>14020359</td>\n",
       "    </tr>\n",
       "    <tr>\n",
       "      <th>HI</th>\n",
       "      <td>3094007</td>\n",
       "      <td>1742458</td>\n",
       "    </tr>\n",
       "  </tbody>\n",
       "</table>\n",
       "</div>"
      ],
      "text/plain": [
       "       Dem Votes  GOP Votes\n",
       "State                      \n",
       "AK       1030180    1380065\n",
       "AL       5959584    3620563\n",
       "AR       2859963    2320523\n",
       "CA      99009022   82849840\n",
       "CO      12794738   14717388\n",
       "CT      13137514   11846371\n",
       "DE       2525877    2543759\n",
       "FL      22792957   27630700\n",
       "GA      11003327   14020359\n",
       "HI       3094007    1742458"
      ]
     },
     "execution_count": 21,
     "metadata": {},
     "output_type": "execute_result"
    }
   ],
   "source": [
    "#display the first 10 rows of the new dataframe\n",
    "dfTotal.head(10)"
   ]
  },
  {
   "cell_type": "code",
   "execution_count": 22,
   "metadata": {},
   "outputs": [
    {
     "data": {
      "text/plain": [
       "<matplotlib.axes._subplots.AxesSubplot at 0x11c859e48>"
      ]
     },
     "execution_count": 22,
     "metadata": {},
     "output_type": "execute_result"
    },
    {
     "data": {
      "image/png": "[encoded data removed]",
      "text/plain": [
       "<Figure size 720x432 with 1 Axes>"
      ]
     },
     "metadata": {},
     "output_type": "display_data"
    }
   ],
   "source": [
    "#now let's try making a graph with two x-axis values!\n",
    "dfTotal.plot.bar(figsize = (10, 6))"
   ]
  },
  {
   "cell_type": "code",
   "execution_count": 23,
   "metadata": {},
   "outputs": [],
   "source": [
    "#this graph shows the total Dem Votes and GOP Votes per state for the entire dataframe\n",
    "#however, the dataframe doesn't have election data for every state each year\n",
    "#what if we just wanted to know the total Dem Votes and GOP Votes per state in 2012?"
   ]
  },
  {
   "cell_type": "code",
   "execution_count": 24,
   "metadata": {},
   "outputs": [],
   "source": [
    "#create a new dataframe from the original dataframe that only includes entries where the year is 2012\n",
    "#newDataFrame = oldDataFrame[oldDataFrame.ColumnName == desiredValue] \n",
    "#the syntax for selecting specific entries based on the value of one column is different than creating a dataframe by taking whole columns from the original\n",
    "df2012 = df[df.Year == 2012]"
   ]
  },
  {
   "cell_type": "code",
   "execution_count": 25,
   "metadata": {},
   "outputs": [
    {
     "data": {
      "text/html": [
       "<div>\n",
       "<style scoped>\n",
       "    .dataframe tbody tr th:only-of-type {\n",
       "        vertical-align: middle;\n",
       "    }\n",
       "\n",
       "    .dataframe tbody tr th {\n",
       "        vertical-align: top;\n",
       "    }\n",
       "\n",
       "    .dataframe thead th {\n",
       "        text-align: right;\n",
       "    }\n",
       "</style>\n",
       "<table border=\"1\" class=\"dataframe\">\n",
       "  <thead>\n",
       "    <tr style=\"text-align: right;\">\n",
       "      <th></th>\n",
       "      <th>State</th>\n",
       "      <th>District</th>\n",
       "      <th>Year</th>\n",
       "      <th>Party</th>\n",
       "      <th>Incumbent</th>\n",
       "      <th>Dem Votes</th>\n",
       "      <th>GOP Votes</th>\n",
       "      <th>Other Votes</th>\n",
       "    </tr>\n",
       "  </thead>\n",
       "  <tbody>\n",
       "    <tr>\n",
       "      <th>400</th>\n",
       "      <td>AK</td>\n",
       "      <td>1</td>\n",
       "      <td>2012</td>\n",
       "      <td>R</td>\n",
       "      <td>0</td>\n",
       "      <td>1525</td>\n",
       "      <td>5428</td>\n",
       "      <td>57</td>\n",
       "    </tr>\n",
       "    <tr>\n",
       "      <th>401</th>\n",
       "      <td>AK</td>\n",
       "      <td>2</td>\n",
       "      <td>2012</td>\n",
       "      <td>R</td>\n",
       "      <td>1</td>\n",
       "      <td>4012</td>\n",
       "      <td>4420</td>\n",
       "      <td>33</td>\n",
       "    </tr>\n",
       "    <tr>\n",
       "      <th>402</th>\n",
       "      <td>AK</td>\n",
       "      <td>3</td>\n",
       "      <td>2012</td>\n",
       "      <td>R</td>\n",
       "      <td>1</td>\n",
       "      <td>0</td>\n",
       "      <td>4306</td>\n",
       "      <td>166</td>\n",
       "    </tr>\n",
       "    <tr>\n",
       "      <th>403</th>\n",
       "      <td>AK</td>\n",
       "      <td>4</td>\n",
       "      <td>2012</td>\n",
       "      <td>D</td>\n",
       "      <td>1</td>\n",
       "      <td>3160</td>\n",
       "      <td>2992</td>\n",
       "      <td>24</td>\n",
       "    </tr>\n",
       "    <tr>\n",
       "      <th>404</th>\n",
       "      <td>AK</td>\n",
       "      <td>5</td>\n",
       "      <td>2012</td>\n",
       "      <td>R</td>\n",
       "      <td>0</td>\n",
       "      <td>3410</td>\n",
       "      <td>3950</td>\n",
       "      <td>32</td>\n",
       "    </tr>\n",
       "    <tr>\n",
       "      <th>405</th>\n",
       "      <td>AK</td>\n",
       "      <td>6</td>\n",
       "      <td>2012</td>\n",
       "      <td>R</td>\n",
       "      <td>1</td>\n",
       "      <td>1878</td>\n",
       "      <td>4879</td>\n",
       "      <td>41</td>\n",
       "    </tr>\n",
       "    <tr>\n",
       "      <th>406</th>\n",
       "      <td>AK</td>\n",
       "      <td>7</td>\n",
       "      <td>2012</td>\n",
       "      <td>R</td>\n",
       "      <td>1</td>\n",
       "      <td>0</td>\n",
       "      <td>5517</td>\n",
       "      <td>265</td>\n",
       "    </tr>\n",
       "    <tr>\n",
       "      <th>407</th>\n",
       "      <td>AK</td>\n",
       "      <td>8</td>\n",
       "      <td>2012</td>\n",
       "      <td>R</td>\n",
       "      <td>0</td>\n",
       "      <td>0</td>\n",
       "      <td>6183</td>\n",
       "      <td>282</td>\n",
       "    </tr>\n",
       "    <tr>\n",
       "      <th>408</th>\n",
       "      <td>AK</td>\n",
       "      <td>9</td>\n",
       "      <td>2012</td>\n",
       "      <td>R</td>\n",
       "      <td>0</td>\n",
       "      <td>1767</td>\n",
       "      <td>4759</td>\n",
       "      <td>26</td>\n",
       "    </tr>\n",
       "    <tr>\n",
       "      <th>409</th>\n",
       "      <td>AK</td>\n",
       "      <td>10</td>\n",
       "      <td>2012</td>\n",
       "      <td>R</td>\n",
       "      <td>1</td>\n",
       "      <td>1179</td>\n",
       "      <td>4755</td>\n",
       "      <td>13</td>\n",
       "    </tr>\n",
       "  </tbody>\n",
       "</table>\n",
       "</div>"
      ],
      "text/plain": [
       "    State District  Year Party  Incumbent  Dem Votes  GOP Votes  Other Votes\n",
       "400    AK        1  2012     R          0       1525       5428           57\n",
       "401    AK        2  2012     R          1       4012       4420           33\n",
       "402    AK        3  2012     R          1          0       4306          166\n",
       "403    AK        4  2012     D          1       3160       2992           24\n",
       "404    AK        5  2012     R          0       3410       3950           32\n",
       "405    AK        6  2012     R          1       1878       4879           41\n",
       "406    AK        7  2012     R          1          0       5517          265\n",
       "407    AK        8  2012     R          0          0       6183          282\n",
       "408    AK        9  2012     R          0       1767       4759           26\n",
       "409    AK       10  2012     R          1       1179       4755           13"
      ]
     },
     "execution_count": 25,
     "metadata": {},
     "output_type": "execute_result"
    }
   ],
   "source": [
    "#display the first 10 rows of the new dataframe\n",
    "df2012.head(10)"
   ]
  },
  {
   "cell_type": "code",
   "execution_count": 26,
   "metadata": {},
   "outputs": [],
   "source": [
    "#now we can do the same thing as before\n",
    "#create a new dataframe from this dataframe that just includes the state, Dem Votes, and GOP Votes\n",
    "dfTotal2 = df2012[['State', 'Dem Votes', 'GOP Votes']]"
   ]
  },
  {
   "cell_type": "code",
   "execution_count": 27,
   "metadata": {},
   "outputs": [
    {
     "data": {
      "text/html": [
       "<div>\n",
       "<style scoped>\n",
       "    .dataframe tbody tr th:only-of-type {\n",
       "        vertical-align: middle;\n",
       "    }\n",
       "\n",
       "    .dataframe tbody tr th {\n",
       "        vertical-align: top;\n",
       "    }\n",
       "\n",
       "    .dataframe thead th {\n",
       "        text-align: right;\n",
       "    }\n",
       "</style>\n",
       "<table border=\"1\" class=\"dataframe\">\n",
       "  <thead>\n",
       "    <tr style=\"text-align: right;\">\n",
       "      <th></th>\n",
       "      <th>State</th>\n",
       "      <th>Dem Votes</th>\n",
       "      <th>GOP Votes</th>\n",
       "    </tr>\n",
       "  </thead>\n",
       "  <tbody>\n",
       "    <tr>\n",
       "      <th>400</th>\n",
       "      <td>AK</td>\n",
       "      <td>1525</td>\n",
       "      <td>5428</td>\n",
       "    </tr>\n",
       "    <tr>\n",
       "      <th>401</th>\n",
       "      <td>AK</td>\n",
       "      <td>4012</td>\n",
       "      <td>4420</td>\n",
       "    </tr>\n",
       "    <tr>\n",
       "      <th>402</th>\n",
       "      <td>AK</td>\n",
       "      <td>0</td>\n",
       "      <td>4306</td>\n",
       "    </tr>\n",
       "    <tr>\n",
       "      <th>403</th>\n",
       "      <td>AK</td>\n",
       "      <td>3160</td>\n",
       "      <td>2992</td>\n",
       "    </tr>\n",
       "    <tr>\n",
       "      <th>404</th>\n",
       "      <td>AK</td>\n",
       "      <td>3410</td>\n",
       "      <td>3950</td>\n",
       "    </tr>\n",
       "    <tr>\n",
       "      <th>405</th>\n",
       "      <td>AK</td>\n",
       "      <td>1878</td>\n",
       "      <td>4879</td>\n",
       "    </tr>\n",
       "    <tr>\n",
       "      <th>406</th>\n",
       "      <td>AK</td>\n",
       "      <td>0</td>\n",
       "      <td>5517</td>\n",
       "    </tr>\n",
       "    <tr>\n",
       "      <th>407</th>\n",
       "      <td>AK</td>\n",
       "      <td>0</td>\n",
       "      <td>6183</td>\n",
       "    </tr>\n",
       "    <tr>\n",
       "      <th>408</th>\n",
       "      <td>AK</td>\n",
       "      <td>1767</td>\n",
       "      <td>4759</td>\n",
       "    </tr>\n",
       "    <tr>\n",
       "      <th>409</th>\n",
       "      <td>AK</td>\n",
       "      <td>1179</td>\n",
       "      <td>4755</td>\n",
       "    </tr>\n",
       "  </tbody>\n",
       "</table>\n",
       "</div>"
      ],
      "text/plain": [
       "    State  Dem Votes  GOP Votes\n",
       "400    AK       1525       5428\n",
       "401    AK       4012       4420\n",
       "402    AK          0       4306\n",
       "403    AK       3160       2992\n",
       "404    AK       3410       3950\n",
       "405    AK       1878       4879\n",
       "406    AK          0       5517\n",
       "407    AK          0       6183\n",
       "408    AK       1767       4759\n",
       "409    AK       1179       4755"
      ]
     },
     "execution_count": 27,
     "metadata": {},
     "output_type": "execute_result"
    }
   ],
   "source": [
    "#display the first 10 rows of the new dataframe\n",
    "dfTotal2.head(10)"
   ]
  },
  {
   "cell_type": "code",
   "execution_count": 28,
   "metadata": {},
   "outputs": [],
   "source": [
    "#group the dataframe by state and find the sum of the Dem Votes and GOP Votes\n",
    "#instead of creating a new dataframe, you can also just update the dataframe to what you want it to be\n",
    "dfTotal2 = dfTotal2.groupby(['State'])[['Dem Votes', 'GOP Votes']].sum()"
   ]
  },
  {
   "cell_type": "code",
   "execution_count": 29,
   "metadata": {},
   "outputs": [
    {
     "data": {
      "text/html": [
       "<div>\n",
       "<style scoped>\n",
       "    .dataframe tbody tr th:only-of-type {\n",
       "        vertical-align: middle;\n",
       "    }\n",
       "\n",
       "    .dataframe tbody tr th {\n",
       "        vertical-align: top;\n",
       "    }\n",
       "\n",
       "    .dataframe thead th {\n",
       "        text-align: right;\n",
       "    }\n",
       "</style>\n",
       "<table border=\"1\" class=\"dataframe\">\n",
       "  <thead>\n",
       "    <tr style=\"text-align: right;\">\n",
       "      <th></th>\n",
       "      <th>Dem Votes</th>\n",
       "      <th>GOP Votes</th>\n",
       "    </tr>\n",
       "    <tr>\n",
       "      <th>State</th>\n",
       "      <th></th>\n",
       "      <th></th>\n",
       "    </tr>\n",
       "  </thead>\n",
       "  <tbody>\n",
       "    <tr>\n",
       "      <th>AK</th>\n",
       "      <td>92803</td>\n",
       "      <td>160359</td>\n",
       "    </tr>\n",
       "    <tr>\n",
       "      <th>AR</th>\n",
       "      <td>506021</td>\n",
       "      <td>561432</td>\n",
       "    </tr>\n",
       "    <tr>\n",
       "      <th>CA</th>\n",
       "      <td>10870957</td>\n",
       "      <td>7087238</td>\n",
       "    </tr>\n",
       "    <tr>\n",
       "      <th>CO</th>\n",
       "      <td>1786667</td>\n",
       "      <td>1718001</td>\n",
       "    </tr>\n",
       "    <tr>\n",
       "      <th>CT</th>\n",
       "      <td>1498941</td>\n",
       "      <td>1156334</td>\n",
       "    </tr>\n",
       "    <tr>\n",
       "      <th>DE</th>\n",
       "      <td>446063</td>\n",
       "      <td>258216</td>\n",
       "    </tr>\n",
       "    <tr>\n",
       "      <th>FL</th>\n",
       "      <td>4616749</td>\n",
       "      <td>5664616</td>\n",
       "    </tr>\n",
       "    <tr>\n",
       "      <th>GA</th>\n",
       "      <td>2393338</td>\n",
       "      <td>3986894</td>\n",
       "    </tr>\n",
       "    <tr>\n",
       "      <th>HI</th>\n",
       "      <td>353635</td>\n",
       "      <td>158797</td>\n",
       "    </tr>\n",
       "    <tr>\n",
       "      <th>IA</th>\n",
       "      <td>1023581</td>\n",
       "      <td>1120163</td>\n",
       "    </tr>\n",
       "  </tbody>\n",
       "</table>\n",
       "</div>"
      ],
      "text/plain": [
       "       Dem Votes  GOP Votes\n",
       "State                      \n",
       "AK         92803     160359\n",
       "AR        506021     561432\n",
       "CA      10870957    7087238\n",
       "CO       1786667    1718001\n",
       "CT       1498941    1156334\n",
       "DE        446063     258216\n",
       "FL       4616749    5664616\n",
       "GA       2393338    3986894\n",
       "HI        353635     158797\n",
       "IA       1023581    1120163"
      ]
     },
     "execution_count": 29,
     "metadata": {},
     "output_type": "execute_result"
    }
   ],
   "source": [
    "#display the first 10 rows of the updated dataframe\n",
    "dfTotal2.head(10)"
   ]
  },
  {
   "cell_type": "code",
   "execution_count": 30,
   "metadata": {},
   "outputs": [
    {
     "data": {
      "text/plain": [
       "<matplotlib.axes._subplots.AxesSubplot at 0x1102d02e8>"
      ]
     },
     "execution_count": 30,
     "metadata": {},
     "output_type": "execute_result"
    },
    {
     "data": {
      "image/png": "[encoded data removed]",
      "text/plain": [
       "<Figure size 720x432 with 1 Axes>"
      ]
     },
     "metadata": {},
     "output_type": "display_data"
    }
   ],
   "source": [
    "#now we can make another graph! \n",
    "dfTotal2.plot.bar(figsize = (10, 6))"
   ]
  },
  {
   "cell_type": "code",
   "execution_count": 31,
   "metadata": {},
   "outputs": [],
   "source": [
    "#now it's your turn! feel free to ask more questions and create more graphs!\n",
    "#however, you don't always need to use a graph to answer a question\n",
    "#also, there are lots of different types of graphs. check out the resources page to learn how to make them!"
   ]
  },
  {
   "cell_type": "code",
   "execution_count": 32,
   "metadata": {},
   "outputs": [],
   "source": [
    "#have fun!!!"
   ]
  },
  {
   "cell_type": "code",
   "execution_count": null,
   "metadata": {},
   "outputs": [],
   "source": []
  }
 ],
 "metadata": {
  "kernelspec": {
   "display_name": "Python 3",
   "language": "python",
   "name": "python3"
  },
  "language_info": {
   "codemirror_mode": {
    "name": "ipython",
    "version": 3
   },
   "file_extension": ".py",
   "mimetype": "text/x-python",
   "name": "python",
   "nbconvert_exporter": "python",
   "pygments_lexer": "ipython3",
   "version": "3.6.5"
  }
 },
 "nbformat": 4,
 "nbformat_minor": 2
}
